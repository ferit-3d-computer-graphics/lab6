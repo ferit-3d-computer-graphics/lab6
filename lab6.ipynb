{
 "cells": [
  {
   "cell_type": "markdown",
   "id": "199b375d-5576-48e9-9ba2-4293019d9f0e",
   "metadata": {},
   "source": [
    "# Lab 6: Animation, Time Series, and Dynamic Scenes\n",
    "\n",
    "---"
   ]
  },
  {
   "cell_type": "markdown",
   "id": "ad8ea5c9-e744-4cf5-853f-13653c77b857",
   "metadata": {},
   "source": [
    "**Learning Outcomes**\n",
    "\n",
    "By completing this lab, students will be able to:\n",
    "- Animate 3D objects using time series data or frame-based logic.\n",
    "- Create and visualize 2D and 3D vector fields that evolve over time.\n",
    "- Apply and synchronize model transformations (translation, rotation, scaling) in animated scenes.\n",
    "- Update 3D scenes dynamically in response to simulation or user-defined data.\n",
    "\n",
    "---"
   ]
  },
  {
   "cell_type": "markdown",
   "id": "7cee2f3e-3ea6-45f5-b29a-e8fa52faa3c9",
   "metadata": {},
   "source": [
    "## Animation, Time Series, and Dynamic Scenes\n",
    "\n",
    "Animation in 3D graphics brings time into the spatial domain, allowing data and geometry to evolve interactively or sequentially. Whether visualizing simulations, motion, or time-series datasets, animation provides an intuitive way to understand dynamic processes.\n",
    "\n",
    "K3D allows animation through real-time updates of object attributes — such as positions, model matrices, colors, and vectors. Using Python loops or time-based data, users can simulate motion, apply transformations, or encode changing scalar values through color or shape.\n",
    "\n",
    "Time series animation often uses temporal data to drive visual changes (e.g., a rising temperature mapped to vertex color). Meanwhile, vector field animation can simulate wind, flow, or force direction. Together, these techniques allow the creation of immersive, responsive, and insightful 3D dynamic scenes.\n",
    "\n",
    "Animation in 3D graphics involves updating the properties of objects over time, such as position, rotation, scale, color, or shape. In this lab, we explore two primary forms of animation:\n",
    "- Frame-based animation — updates geometry frame by frame using loops (e.g., rotating an object).\n",
    "- Data-driven animation — maps changes in time-series or simulation data directly to 3D changes (e.g., a point cloud evolving with time).\n",
    "\n",
    "Vector fields are particularly useful in physics and scientific visualization. A 2D or 3D vector field assigns a direction and magnitude (a vector) to every point in space. When animated, they simulate flows, forces, or motion patterns.\n",
    "\n",
    "K3D allows real-time updates of object attributes such as positions, model_matrix, and color, enabling interactive dynamic scenes. \n",
    "\n",
    "---"
   ]
  },
  {
   "cell_type": "code",
   "execution_count": null,
   "id": "f1fbf3f2-5333-4010-bbce-5ae7d574f58d",
   "metadata": {},
   "outputs": [],
   "source": [
    "!pip install k3d"
   ]
  },
  {
   "cell_type": "code",
   "execution_count": 17,
   "id": "98e10db4-4a53-4ff0-ad35-9a18a996d016",
   "metadata": {},
   "outputs": [],
   "source": [
    "import k3d\n",
    "import numpy as np\n",
    "import time\n",
    "import math"
   ]
  },
  {
   "cell_type": "markdown",
   "id": "acbb85e1-d00a-4b58-9f5c-089d5d59a31e",
   "metadata": {},
   "source": [
    "---\n",
    "\n",
    "### Example 1: Animate a Moving Point Along a Circular Path\n",
    "\n",
    "The following example demonstrates basic object animation using position updates over time."
   ]
  },
  {
   "cell_type": "code",
   "execution_count": 7,
   "id": "43499b99-5465-4194-bcc6-82af07a94cbc",
   "metadata": {},
   "outputs": [
    {
     "data": {
      "application/vnd.jupyter.widget-view+json": {
       "model_id": "42d1ae9cf48242ccb499da103656bc48",
       "version_major": 2,
       "version_minor": 0
      },
      "text/plain": [
       "Output()"
      ]
     },
     "metadata": {},
     "output_type": "display_data"
    }
   ],
   "source": [
    "plot = k3d.plot()\n",
    "\n",
    "# Precompute a circular trajectory\n",
    "N = 100\n",
    "theta = np.linspace(0, 2 * np.pi, N)\n",
    "trajectory = np.stack((np.cos(theta), np.sin(theta), np.zeros_like(theta)), axis=1)\n",
    "\n",
    "# Create the moving point\n",
    "point = k3d.points([[1, 0, 0]], point_size=0.2, color=0xff0000)\n",
    "plot += point\n",
    "plot.display()\n",
    "\n",
    "# Animate the point along the path\n",
    "for pos in trajectory:\n",
    "    point.positions = np.array([pos], dtype=np.float32)\n",
    "    time.sleep(0.03)\n"
   ]
  },
  {
   "cell_type": "markdown",
   "id": "6bb8304b-7810-4643-b0cd-799760fb7a18",
   "metadata": {},
   "source": [
    "---\n",
    "\n",
    "### Example 2: Animate a 2D Vector Field\n",
    "\n",
    "This example shows how vector fields can evolve over time using trigonometric direction updates."
   ]
  },
  {
   "cell_type": "code",
   "execution_count": 10,
   "id": "5f7b5167-5bf4-4b79-acbd-f267d2cbd9a8",
   "metadata": {},
   "outputs": [
    {
     "data": {
      "application/vnd.jupyter.widget-view+json": {
       "model_id": "1c7edf180cb742bc9b36d54486ebe064",
       "version_major": 2,
       "version_minor": 0
      },
      "text/plain": [
       "Output()"
      ]
     },
     "metadata": {},
     "output_type": "display_data"
    }
   ],
   "source": [
    "plot = k3d.plot()\n",
    "\n",
    "# Generate grid of positions\n",
    "x, y = np.meshgrid(np.linspace(-1, 1, 10), np.linspace(-1, 1, 10))\n",
    "origins = np.stack((x.ravel(), y.ravel(), np.zeros_like(x.ravel())), axis=1)\n",
    "\n",
    "# Create initial directions\n",
    "directions = np.stack((np.ones_like(x).ravel(), np.zeros_like(y).ravel(), np.zeros_like(x).ravel()), axis=1)\n",
    "\n",
    "vectors = k3d.vectors(origins.astype(np.float32), directions.astype(np.float32), color=0x00ff00, line_width=0.01)\n",
    "plot += vectors\n",
    "plot.display()\n",
    "\n",
    "# Animate: rotate all arrows\n",
    "for t in range(60):\n",
    "    angle = t * 0.1\n",
    "    dx = np.cos(angle)\n",
    "    dy = np.sin(angle)\n",
    "    directions = np.stack((dx * np.ones_like(x).ravel(), dy * np.ones_like(y).ravel(), np.zeros_like(x).ravel()), axis=1)\n",
    "    vectors.vectors = directions.astype(np.float32)\n",
    "    time.sleep(0.05)\n"
   ]
  },
  {
   "cell_type": "markdown",
   "id": "8dea69eb-c6be-4b96-bf39-9fb9c8d7b34f",
   "metadata": {},
   "source": [
    "---\n",
    "\n",
    "### Example 3: Animate Transformation Using Model Matrix (Rotation)\n",
    "\n",
    "This example applies animated transformation using 4×4 matrices (affine transformations)."
   ]
  },
  {
   "cell_type": "code",
   "execution_count": 19,
   "id": "e3c607e3-7569-474b-a42d-7c42fea8a7ab",
   "metadata": {},
   "outputs": [
    {
     "data": {
      "application/vnd.jupyter.widget-view+json": {
       "model_id": "0b7d2ae0e5db4fe5a96a1df51471014a",
       "version_major": 2,
       "version_minor": 0
      },
      "text/plain": [
       "Output()"
      ]
     },
     "metadata": {},
     "output_type": "display_data"
    }
   ],
   "source": [
    "# Initial point\n",
    "point = k3d.points([[1, 0, 0]], point_size=0.3, color=0x0077ff)\n",
    "plot = k3d.plot()\n",
    "plot += point\n",
    "plot.display()\n",
    "\n",
    "# Build rotating model matrices\n",
    "for t in range(100):\n",
    "    angle = 2 * math.pi * (t / 100)\n",
    "    matrix = np.array([\n",
    "        [math.cos(angle), -math.sin(angle), 0.0, 0.0],\n",
    "        [math.sin(angle),  math.cos(angle), 0.0, 0.0],\n",
    "        [0.0,              0.0,             1.0, 0.0],\n",
    "        [0.0,              0.0,             0.0, 1.0]\n",
    "    ], dtype=np.float32)\n",
    "    \n",
    "    point.model_matrix = matrix\n",
    "    time.sleep(0.05)"
   ]
  },
  {
   "cell_type": "markdown",
   "id": "518d846d-9f39-492e-b891-fb994c094d3a",
   "metadata": {},
   "source": [
    "---\n",
    "\n",
    "### Example 4: Animate a Scalar Field as Surface Waves\n",
    "\n",
    "This example shows how animated surface data can simulate physical phenomena like waves."
   ]
  },
  {
   "cell_type": "code",
   "execution_count": 22,
   "id": "3cd7cc9e-b736-48d4-99fe-8483a8c9ffe9",
   "metadata": {},
   "outputs": [
    {
     "data": {
      "application/vnd.jupyter.widget-view+json": {
       "model_id": "128d7a54c9af469880a793abc88e370e",
       "version_major": 2,
       "version_minor": 0
      },
      "text/plain": [
       "Output()"
      ]
     },
     "metadata": {},
     "output_type": "display_data"
    }
   ],
   "source": [
    "plot = k3d.plot()\n",
    "\n",
    "# Define spatial grid\n",
    "x, y = np.meshgrid(np.linspace(-3, 3, 40), np.linspace(-3, 3, 40))\n",
    "res = x.shape[0]\n",
    "faces = []\n",
    "for i in range(res - 1):\n",
    "    for j in range(res - 1):\n",
    "        idx = i * res + j\n",
    "        faces.append([idx, idx + 1, idx + res])\n",
    "        faces.append([idx + 1, idx + res + 1, idx + res])\n",
    "faces = np.array(faces, dtype=np.uint32)\n",
    "\n",
    "# Initial Z surface\n",
    "z = np.sin(x**2 + y**2)\n",
    "vertices = np.stack([x.ravel(), y.ravel(), z.ravel()], axis=1)\n",
    "mesh = k3d.mesh(vertices.astype(np.float32), indices=faces)\n",
    "plot += mesh\n",
    "plot.display()\n",
    "\n",
    "# Animate: wave propagation\n",
    "for t in range(80):\n",
    "    z = np.sin(x**2 + y**2 - t * 0.2)\n",
    "    vertices = np.stack([x.ravel(), y.ravel(), z.ravel()], axis=1)\n",
    "    mesh.vertices = vertices.astype(np.float32)\n",
    "    time.sleep(0.05)\n"
   ]
  },
  {
   "cell_type": "markdown",
   "id": "ed1fbe89-9857-4530-b2db-80a779376c85",
   "metadata": {},
   "source": [
    "---\n",
    "\n",
    "### Example 5: Animate Object Along Predefined Path (With Trail)\n",
    "\n",
    "This example combines path-following with visual trail for storytelling or data tracing.\n"
   ]
  },
  {
   "cell_type": "code",
   "execution_count": 29,
   "id": "b1a744de-9d46-4b69-987a-55a981576f90",
   "metadata": {},
   "outputs": [
    {
     "name": "stderr",
     "output_type": "stream",
     "text": [
      "C:\\Users\\arija\\anaconda3\\Lib\\site-packages\\traittypes\\traittypes.py:97: UserWarning: Given trait value dtype \"float64\" does not match required type \"float32\". A coerced copy has been created.\n",
      "  warnings.warn(\n"
     ]
    },
    {
     "data": {
      "application/vnd.jupyter.widget-view+json": {
       "model_id": "7a44e6403fa74aa8b1b9b82ec9ac6b7c",
       "version_major": 2,
       "version_minor": 0
      },
      "text/plain": [
       "Output()"
      ]
     },
     "metadata": {},
     "output_type": "display_data"
    }
   ],
   "source": [
    "plot = k3d.plot()\n",
    "\n",
    "# Predefined path (spiral)\n",
    "t_vals = np.linspace(0, 4 * np.pi, 100)\n",
    "x = np.cos(t_vals)\n",
    "y = np.sin(t_vals)\n",
    "z = t_vals / (2 * np.pi)\n",
    "\n",
    "path = np.stack((x, y, z), axis=1)\n",
    "trail = k3d.line(path, width=0.02, color=0x999999)\n",
    "\n",
    "point = k3d.points([[x[0], y[0], z[0]]], point_size=0.2, color=0xff0000)\n",
    "\n",
    "plot += trail\n",
    "plot += point\n",
    "plot.display()\n",
    "\n",
    "# Animate the point along the spiral\n",
    "for i in range(len(path)):\n",
    "    point.positions = np.array([path[i]], dtype=np.float32)\n",
    "    time.sleep(0.04)\n"
   ]
  },
  {
   "cell_type": "markdown",
   "id": "dbb7e23f-2e59-43bc-816f-b155152bc0d4",
   "metadata": {},
   "source": [
    "---\n",
    "\n",
    "### Example 6: Animate Time Series with Changing Point Colors\n",
    "\n",
    "This example visualizes a time-dependent signal or measurement (like temperature, activity, or pressure) via color."
   ]
  },
  {
   "cell_type": "code",
   "execution_count": 31,
   "id": "be457680-d2ab-47aa-b9a8-bc3f440c90ea",
   "metadata": {},
   "outputs": [
    {
     "data": {
      "application/vnd.jupyter.widget-view+json": {
       "model_id": "ed37a9d62f4a4682abe745defc461fc7",
       "version_major": 2,
       "version_minor": 0
      },
      "text/plain": [
       "Output()"
      ]
     },
     "metadata": {},
     "output_type": "display_data"
    }
   ],
   "source": [
    "plot = k3d.plot()\n",
    "\n",
    "# Create points with fixed positions\n",
    "positions = np.random.uniform(-1, 1, (100, 3)).astype(np.float32)\n",
    "points = k3d.points(positions, point_size=0.15)\n",
    "plot += points\n",
    "plot.display()\n",
    "\n",
    "# Animate color change based on simulated data values\n",
    "for t in range(80):\n",
    "    values = np.sin(np.linspace(0, 2*np.pi, 100) + t * 0.2)\n",
    "    norm = ((values - values.min()) / values.ptp()) * 0xFFFFFF\n",
    "    points.colors = norm.astype(np.uint32)\n",
    "    time.sleep(0.05)\n"
   ]
  },
  {
   "cell_type": "markdown",
   "id": "b15e6867-382b-46ea-8b8a-7aafce2fc794",
   "metadata": {},
   "source": [
    "--- \n",
    "\n",
    "# Tasks\n",
    "\n",
    "---"
   ]
  },
  {
   "cell_type": "markdown",
   "id": "0a9d13e0-402b-4a6b-b822-d59e753a3764",
   "metadata": {},
   "source": [
    "## Task 1: Animate a 3D Object Along a Custom Path\n",
    "\n",
    "Move a 3D object (e.g., a sphere or cube) along a non-circular path such as a figure-eight or zig-zag, and visualize its movement.\n",
    "Steps:\n",
    "- Define the path as a series of (x, y, z) points.\n",
    "- Use k3d.points() to represent the object.\n",
    "- Update its position in a loop using .positions.\n",
    "\n",
    "An outcome of this should be a moving object that traces a recognizable path in 3D space.\n",
    "\n",
    "---"
   ]
  },
  {
   "cell_type": "code",
   "execution_count": 44,
   "id": "64c4f3ec-19ef-4ac1-b2e3-ab30cf6cc829",
   "metadata": {},
   "outputs": [],
   "source": [
    "## Write your ode here"
   ]
  },
  {
   "cell_type": "markdown",
   "id": "03ed0d22-63db-47d5-a8f6-19f40fad1d08",
   "metadata": {},
   "source": [
    "## Task 2: Simulate a Wind Field Using Animated 3D Vectors\n",
    "\n",
    "Create a 3D grid of vectors and animate their directions to simulate wind or flow.\n",
    "Steps:\n",
    "- Define a grid of vector origins.\n",
    "- Animate vector directions over time using sine or cosine functions.\n",
    "- Use k3d.vectors() and update .vectors dynamically.\n",
    "\n",
    "An outcome of this should be an evolving vector field that shows dynamic direction changes.\n",
    "\n",
    "---"
   ]
  },
  {
   "cell_type": "code",
   "execution_count": 46,
   "id": "2f894e76-e59c-44d3-9a97-74296eff9564",
   "metadata": {},
   "outputs": [],
   "source": [
    "## Write your ode here"
   ]
  },
  {
   "cell_type": "markdown",
   "id": "c8d623b0-9a3a-453a-8bd5-7d02bf36f5a8",
   "metadata": {},
   "source": [
    "## Task 3: Animate Temperature Across a Surface Mesh\n",
    "\n",
    "Create a surface (e.g., terrain or sine wave), and simulate changing \"temperature\" by animating vertex colors.\n",
    "Steps:\n",
    "- Generate a 2D surface mesh.\n",
    "- Create a temperature wave that evolves over time (sinusoidal or noisy).\n",
    "- Convert temperature values to colors and update .colors.\n",
    "\n",
    "An outcome of this task is a surface mesh with a flowing heat map effect.\n",
    "\n",
    "---"
   ]
  },
  {
   "cell_type": "code",
   "execution_count": 48,
   "id": "c1c5caaa-4185-43ce-a1a1-d95acf36f02e",
   "metadata": {},
   "outputs": [],
   "source": [
    "## Write your ode here"
   ]
  },
  {
   "cell_type": "markdown",
   "id": "ca9666bd-0241-4791-b3a8-0d7afaee73e0",
   "metadata": {},
   "source": [
    "## Task 4: Build a 3D Time Series Dashboard\n",
    "\n",
    "Display changing data values using position, size, or color of bars or points — like an animated chart.\n",
    "Steps:\n",
    "- Create vertical lines or points to represent data values.\n",
    "- Use a loop to simulate new data over time.\n",
    "- Animate the scene using .positions, .colors, or .model_matrix.\n",
    "\n",
    "Outcome is a 3D dashboard that visually tracks change — ideal for performance metrics or scientific data playback.\n",
    "\n",
    "---"
   ]
  },
  {
   "cell_type": "code",
   "execution_count": 50,
   "id": "b5e9efad-b5c4-4395-94ef-204eae0652f3",
   "metadata": {},
   "outputs": [],
   "source": [
    "## Write your ode here"
   ]
  }
 ],
 "metadata": {
  "kernelspec": {
   "display_name": "Python [conda env:base] *",
   "language": "python",
   "name": "conda-base-py"
  },
  "language_info": {
   "codemirror_mode": {
    "name": "ipython",
    "version": 3
   },
   "file_extension": ".py",
   "mimetype": "text/x-python",
   "name": "python",
   "nbconvert_exporter": "python",
   "pygments_lexer": "ipython3",
   "version": "3.12.7"
  }
 },
 "nbformat": 4,
 "nbformat_minor": 5
}
